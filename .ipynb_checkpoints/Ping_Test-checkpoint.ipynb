{
 "cells": [
  {
   "cell_type": "markdown",
   "metadata": {},
   "source": [
    "# Ping応答スクリプト  \n",
    "## Ping送信先の読み込み  \n",
    "* csvファイルの読み込み\n",
    "* 同時に拠点名・マシン名の読み込み \n",
    "\n",
    "<center><u>■ファイル形式</u></center>\n",
    "\n",
    "|拠点名|IP|マシン名|  \n",
    "|:--------:|:--------:|:--------:|  \n",
    "|本社|127.0.0.1|ローカルマシン|\n",
    "|拠点A|172.31.102.xxx|PCA-1|\n",
    "\n",
    "## Ping送信  \n",
    "* csv内にあるIPに対してPing送信    \n",
    "  \n",
    "## 応答情報書き込み  \n",
    "* 応答情報をDBに書き込み\n",
    "    * 拠点名|IP|マシン名 をDB書き込み\n",
    "    \n",
    "## その他\n",
    "* 過去データの参照ができるようにDB格納\n",
    "* 任意のタイミングでping送信ができる\n",
    "\n",
    "    "
   ]
  },
  {
   "cell_type": "code",
   "execution_count": 51,
   "metadata": {
    "collapsed": true
   },
   "outputs": [],
   "source": [
    "# ライブラリimport\n",
    "## Ping送信用\n",
    "import os\n",
    "## Data read/write\n",
    "import pandas as pd\n",
    "import numpy as np"
   ]
  },
  {
   "cell_type": "code",
   "execution_count": 52,
   "metadata": {
    "collapsed": true
   },
   "outputs": [],
   "source": [
    "# Ping送信先読み込み\n",
    "PingDestDF = pd.read_csv(os.getcwd()+ r'\\dest\\source.csv',encoding='Shift-JIS')\n",
    "# Ping送信\n",
    "for PCNo in np.arange(0,len(PingDestDF),1):\n",
    "    os.system('ping '+ PingDestDF['IP'][PCNo] + ' -n 1')"
   ]
  },
  {
   "cell_type": "code",
   "execution_count": 50,
   "metadata": {
    "collapsed": true
   },
   "outputs": [],
   "source": []
  }
 ],
 "metadata": {
  "kernelspec": {
   "display_name": "Python 3",
   "language": "python",
   "name": "python3"
  },
  "language_info": {
   "codemirror_mode": {
    "name": "ipython",
    "version": 3
   },
   "file_extension": ".py",
   "mimetype": "text/x-python",
   "name": "python",
   "nbconvert_exporter": "python",
   "pygments_lexer": "ipython3",
   "version": "3.6.1"
  }
 },
 "nbformat": 4,
 "nbformat_minor": 2
}
